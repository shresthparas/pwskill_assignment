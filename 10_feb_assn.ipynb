{
  "nbformat": 4,
  "nbformat_minor": 0,
  "metadata": {
    "colab": {
      "provenance": []
    },
    "kernelspec": {
      "name": "python3",
      "display_name": "Python 3"
    },
    "language_info": {
      "name": "python"
    }
  },
  "cells": [
    {
      "cell_type": "code",
      "execution_count": 1,
      "metadata": {
        "colab": {
          "base_uri": "https://localhost:8080/",
          "height": 105
        },
        "id": "DPMnsdACVrBb",
        "outputId": "6ca7dd5b-e546-457a-c34a-6ecdd60abbf3"
      },
      "outputs": [
        {
          "output_type": "execute_result",
          "data": {
            "text/plain": [
              "'diffrent mode of open the file  are\\n   1.\\'mode\\'\\n   syntax:open(file,mode)\\n   2.\\'Read\\'\\n   syntax: with open(\"test.txt\",\\'r\\') as f:\\n                content=file.read()\\n  3.\\'write\\'\\n  syntax:with open(\"abc.txt\",w) as f:\\n  file.write(\\'Hello owrld\\')\\n  4.\\'binary\\'\\n  suntax:with open(\\'abc.bin\\',\\'rb\\') as f:\\n            data=f.read()'"
            ],
            "application/vnd.google.colaboratory.intrinsic+json": {
              "type": "string"
            }
          },
          "metadata": {},
          "execution_count": 1
        }
      ],
      "source": [
        "#Q.1\n",
        "\"\"\"open() function is use to open the file.\"\"\"\n",
        "\"\"\"diffrent mode of open the file  are\n",
        "   1.'mode'\n",
        "   syntax:open(file,mode)\n",
        "   2.'Read'\n",
        "   syntax: with open(\"test.txt\",'r') as f:\n",
        "                content=file.read()\n",
        "  3.'write'\n",
        "  syntax:with open(\"abc.txt\",w) as f:\n",
        "  file.write('Hello owrld')\n",
        "  4.'binary'\n",
        "  suntax:with open('abc.bin','rb') as f:\n",
        "            data=f.read()\"\"\"\n",
        "\n",
        "\n"
      ]
    },
    {
      "cell_type": "code",
      "source": [
        "#Q.2\n",
        "\"\"\"the close function isn use to close a file that previously\n",
        "   opened function\"\"\"\n",
        "\n",
        "\"\"\"it is important to close the file to 1.avoid the data correctin\n",
        "    2. data integrity\n",
        "    3.File locking\"\"\""
      ],
      "metadata": {
        "colab": {
          "base_uri": "https://localhost:8080/",
          "height": 53
        },
        "id": "z1TW7BKfbEYU",
        "outputId": "641a26bf-a087-4394-93fd-61ac7606a5a6"
      },
      "execution_count": 1,
      "outputs": [
        {
          "output_type": "execute_result",
          "data": {
            "text/plain": [
              "'it is important to close the file to 1.avoid the data correctin\\n    2. data integrity\\n    3.File locking'"
            ],
            "application/vnd.google.colaboratory.intrinsic+json": {
              "type": "string"
            }
          },
          "metadata": {},
          "execution_count": 1
        }
      ]
    },
    {
      "cell_type": "code",
      "source": [
        "#Q.3\n",
        "f=open(\"abc.txt\",'w')\n",
        "f.write(\"i want to become a data scientist\\n \")\n",
        "f.write(\"this is file\")\n",
        "f.close()\n",
        "f=open(\"abc.txt\",'r')\n",
        "f.read()"
      ],
      "metadata": {
        "colab": {
          "base_uri": "https://localhost:8080/",
          "height": 35
        },
        "id": "Ap32AblbuE-3",
        "outputId": "aa3cadf7-5b17-4395-a6fb-62d904a4d205"
      },
      "execution_count": 35,
      "outputs": [
        {
          "output_type": "execute_result",
          "data": {
            "text/plain": [
              "'i want to become a data scientist\\n this is file'"
            ],
            "application/vnd.google.colaboratory.intrinsic+json": {
              "type": "string"
            }
          },
          "metadata": {},
          "execution_count": 35
        }
      ]
    },
    {
      "cell_type": "code",
      "source": [
        "#Q.4\n",
        "# Open a file in read mode\n",
        "# Example using read()\n",
        "with open(\"abc.txt\",'r') as file:\n",
        "  content=file.read()\n",
        "  print(content)\n",
        "  # Example using readline()\n",
        "  with open(\"abc.txt\",'r') as file:\n",
        "    line1=file.readline()\n",
        "    line2=file.readline()\n",
        "    print(\"line1\",line1)\n",
        "\n",
        "\n",
        "# Example using readlines()\n",
        "with open(\"abc.txt\",'r') as file:\n",
        "  line=file.readlines()\n",
        "  for i in line:\n",
        "    print(line)\n",
        "\n",
        "\n",
        "\n",
        "\n",
        "\n",
        "\n",
        "\n",
        "\n",
        "\n",
        "\n",
        "\n",
        "\n",
        "\n",
        "\n"
      ],
      "metadata": {
        "colab": {
          "base_uri": "https://localhost:8080/"
        },
        "id": "xmXh5Fe7v5xf",
        "outputId": "9f0172ac-81fd-49fd-efce-b8165c3ec374"
      },
      "execution_count": 37,
      "outputs": [
        {
          "output_type": "stream",
          "name": "stdout",
          "text": [
            "i want to become a data scientist\n",
            " this is file\n",
            "line1 i want to become a data scientist\n",
            "\n",
            "['i want to become a data scientist\\n', ' this is file']\n",
            "['i want to become a data scientist\\n', ' this is file']\n"
          ]
        }
      ]
    },
    {
      "cell_type": "code",
      "source": [
        "#Q.5\n",
        "\"\"\"he with statement in Python is used in conjunction with the open()\n",
        " function when working with files to ensure proper handling of\n",
        " resources\"\"\"\n",
        " \"\"\" Advantage\n",
        "    1.error handling\n",
        "    2.automatic cleanup\n",
        "    3.Readablity\n",
        "\"\"\"\n",
        "\n",
        "\n",
        "\n"
      ],
      "metadata": {
        "colab": {
          "base_uri": "https://localhost:8080/",
          "height": 140
        },
        "id": "pJJtiJDAw5gM",
        "outputId": "3f6837d0-250b-434c-ac94-d3d88237a7d8"
      },
      "execution_count": 21,
      "outputs": [
        {
          "output_type": "error",
          "ename": "IndentationError",
          "evalue": "ignored",
          "traceback": [
            "\u001b[0;36m  File \u001b[0;32m\"<ipython-input-21-2516c4382650>\"\u001b[0;36m, line \u001b[0;32m5\u001b[0m\n\u001b[0;31m    \"\"\" Advantage\u001b[0m\n\u001b[0m    ^\u001b[0m\n\u001b[0;31mIndentationError\u001b[0m\u001b[0;31m:\u001b[0m unexpected indent\n"
          ]
        }
      ]
    },
    {
      "cell_type": "code",
      "source": [
        "#q.6\n",
        "with open('cde.txt','w') as file:\n",
        "  file.write(\"Hellow world\\n\")\n",
        "  file.write(\"this is snmple file\")\n",
        "  file.close()\n",
        "with open('cde.txt','w') as file:\n",
        "  line=['line 1\\n','linw 2\\n','line 3\\n']\n",
        "  file.writelines(line)\n",
        "\n",
        "\n"
      ],
      "metadata": {
        "id": "vNZekOSxBguZ"
      },
      "execution_count": 27,
      "outputs": []
    },
    {
      "cell_type": "code",
      "source": [],
      "metadata": {
        "id": "3Zy8oKSSCqys"
      },
      "execution_count": null,
      "outputs": []
    }
  ]
}