{
  "nbformat": 4,
  "nbformat_minor": 0,
  "metadata": {
    "colab": {
      "provenance": []
    },
    "kernelspec": {
      "name": "python3",
      "display_name": "Python 3"
    },
    "language_info": {
      "name": "python"
    }
  },
  "cells": [
    {
      "cell_type": "code",
      "execution_count": null,
      "metadata": {
        "colab": {
          "base_uri": "https://localhost:8080/"
        },
        "id": "26c4TuQQTPtZ",
        "outputId": "e768c821-9fc3-46e6-beb0-f3a59e349d72"
      },
      "outputs": [
        {
          "output_type": "stream",
          "name": "stdout",
          "text": [
            "welcome to pwskill\n"
          ]
        }
      ],
      "source": [
        " #Q.1\n",
        " #.In oops class is a blueprint or instance for creating objects.\n",
        " #object is an instance of class that represent real world entity.\n",
        " #example\n",
        "class pwskill():\n",
        "  def welcome_msg(self):\n",
        "    print(\"welcome to pwskill\")\n",
        "a=pwskill()\n",
        "a.welcome_msg()\n",
        "\n"
      ]
    },
    {
      "cell_type": "code",
      "source": [
        "#Q.2\n",
        "\"\"\"  FOUR PILARS OF OOPS ARE\n",
        "    1.POLYMORPISM\n",
        "    2.Encapsulation\n",
        "    3.Inheritance\n",
        "    4.Abstractoin\"\"\""
      ],
      "metadata": {
        "colab": {
          "base_uri": "https://localhost:8080/",
          "height": 35
        },
        "id": "qut4pEFUmOmA",
        "outputId": "62be6172-455e-49b3-9667-2e0db1b1039c"
      },
      "execution_count": null,
      "outputs": [
        {
          "output_type": "execute_result",
          "data": {
            "text/plain": [
              "'  FOUR PILARS OF OOPS ARE \\n    1.POLYMORPISM\\n    2.Encapsulation\\n    3.Inheritance\\n    4.Abstractoin'"
            ],
            "application/vnd.google.colaboratory.intrinsic+json": {
              "type": "string"
            }
          },
          "metadata": {},
          "execution_count": 15
        }
      ]
    },
    {
      "cell_type": "code",
      "source": [
        "#q.3\n",
        "\"\"\" _init_() function is a called constructor it is use when we need to pass the data using class in oops\"\"\"\n",
        "#example\n",
        "class pwskill:\n",
        "  def __init__(self,name,ph_no,branch):\n",
        "    self.name=name\n",
        "    self.ph_no=ph_no\n",
        "    self.branch=branch\n",
        "  def student_detail(self):\n",
        "    return self.name, self.branch,self.ph_no\n",
        "a=pwskill('rohan',9798,'aiml')\n",
        "a.student_detail()\n",
        "\n"
      ],
      "metadata": {
        "colab": {
          "base_uri": "https://localhost:8080/"
        },
        "id": "1c9T5f7boIvy",
        "outputId": "6fa4940a-8b77-45db-a06b-b8b0f616b987"
      },
      "execution_count": null,
      "outputs": [
        {
          "output_type": "execute_result",
          "data": {
            "text/plain": [
              "('rohan', 'aiml', 9798)"
            ]
          },
          "metadata": {},
          "execution_count": 35
        }
      ]
    },
    {
      "cell_type": "code",
      "source": [
        "#q.4\n",
        "\"\"\"In object-oriented programming (OOP), self is a convention used to represent\n",
        " the instance of the class within the class itself.\n",
        " It is a reference to the current object that is being operated on or manipulated.\n",
        " The use of self is essential for several reasons:\"\"\""
      ],
      "metadata": {
        "colab": {
          "base_uri": "https://localhost:8080/",
          "height": 70
        },
        "id": "DyaQRmyRo1d_",
        "outputId": "8191c86d-66fa-4220-dcf8-6ca39c2d4fc2"
      },
      "execution_count": null,
      "outputs": [
        {
          "output_type": "execute_result",
          "data": {
            "text/plain": [
              "'In object-oriented programming (OOP), self is a convention used to represent\\n the instance of the class within the class itself. \\n It is a reference to the current object that is being operated on or manipulated. \\n The use of self is essential for several reasons:'"
            ],
            "application/vnd.google.colaboratory.intrinsic+json": {
              "type": "string"
            }
          },
          "metadata": {},
          "execution_count": 37
        }
      ]
    },
    {
      "cell_type": "code",
      "source": [
        "#q.5\n",
        "\"\"\"inheritance is the property of parent class in child class\"\"\"\n",
        "#ex1\n",
        "class test:\n",
        "  def test_math(self):\n",
        "    return \" this is my first class\"\n",
        "class child_test(test):\n",
        "  pass\n",
        "child_test_object=child_test()\n",
        "child_test_object.test_math()\n"
      ],
      "metadata": {
        "colab": {
          "base_uri": "https://localhost:8080/",
          "height": 35
        },
        "id": "myuLJEVKrbz4",
        "outputId": "5428400c-8735-499c-90d0-bf1f90ab2e3f"
      },
      "execution_count": null,
      "outputs": [
        {
          "output_type": "execute_result",
          "data": {
            "text/plain": [
              "' this is my first class'"
            ],
            "application/vnd.google.colaboratory.intrinsic+json": {
              "type": "string"
            }
          },
          "metadata": {},
          "execution_count": 39
        }
      ]
    },
    {
      "cell_type": "code",
      "source": [
        "#example of multlevel inheritance  type\n",
        "class test:\n",
        "  def test_math(self):\n",
        "    return \"this is my first class\"\n",
        "class test_2(test):\n",
        "  def test_phy(self):\n",
        "    return \"this is my second class\"\n",
        "class test_3(test_2):\n",
        "  pass\n",
        "test_3_object=test_3()\n",
        "print(test_3_object.test_math())\n",
        "print(test_3_object.test_phy())\n",
        "\n",
        "\n"
      ],
      "metadata": {
        "colab": {
          "base_uri": "https://localhost:8080/"
        },
        "id": "TrPEG23ssyUP",
        "outputId": "4a48d307-77ff-4f93-8146-c3f0706f3861"
      },
      "execution_count": null,
      "outputs": [
        {
          "output_type": "stream",
          "name": "stdout",
          "text": [
            "this is my first class\n",
            "this is my second class\n"
          ]
        }
      ]
    },
    {
      "cell_type": "code",
      "source": [
        "#example of multiple inheritance\n",
        "class class_1:\n",
        "  def test_class1(self):\n",
        "    return \"A\"\n",
        "class class_2:\n",
        "  def test_class2(self):\n",
        "    return \"B\"\n",
        "class child(class_1,class_2):\n",
        "  pass\n",
        "a=child()\n",
        "print(a.test_class1(),a.test_class2())"
      ],
      "metadata": {
        "colab": {
          "base_uri": "https://localhost:8080/"
        },
        "id": "6ph2K5LHwbEX",
        "outputId": "ea0ba884-ab7b-47ca-fe32-800495e3e27c"
      },
      "execution_count": null,
      "outputs": [
        {
          "output_type": "stream",
          "name": "stdout",
          "text": [
            "A B\n"
          ]
        }
      ]
    },
    {
      "cell_type": "code",
      "source": [],
      "metadata": {
        "id": "eV6GWjzEyRD5"
      },
      "execution_count": null,
      "outputs": []
    }
  ]
}