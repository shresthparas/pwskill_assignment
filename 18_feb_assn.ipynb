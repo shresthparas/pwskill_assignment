{
  "nbformat": 4,
  "nbformat_minor": 0,
  "metadata": {
    "colab": {
      "provenance": []
    },
    "kernelspec": {
      "name": "python3",
      "display_name": "Python 3"
    },
    "language_info": {
      "name": "python"
    }
  },
  "cells": [
    {
      "cell_type": "code",
      "execution_count": 1,
      "metadata": {
        "colab": {
          "base_uri": "https://localhost:8080/",
          "height": 53
        },
        "id": "EQgCAjQM-ybF",
        "outputId": "cd77095c-6577-458d-cce6-d388823abc5c"
      },
      "outputs": [
        {
          "output_type": "execute_result",
          "data": {
            "text/plain": [
              "\" Real life example of API is\\n.weathen API: the interface that app uses to communucate with the weather service's database\""
            ],
            "application/vnd.google.colaboratory.intrinsic+json": {
              "type": "string"
            }
          },
          "metadata": {},
          "execution_count": 1
        }
      ],
      "source": [
        "#q.1\n",
        "\"\"\"API stands for Applictaion programming interface which is the set of rule\n",
        "or protocol through which diffrent diffrent system can communicate\"\"\"\n",
        "\n",
        "\"\"\" Real life example of API is\n",
        ".weathen API: the interface that app uses to communucate with the weather service's database\"\"\""
      ]
    },
    {
      "cell_type": "code",
      "source": [
        "#q.2\n",
        "\"\"\"\n",
        "Adavantage\n",
        "1.scablity APIs support scalable solutions. As the demands on an application increase, developers can often scale the functionality by integrating additional APIs.\n",
        "2.Rapid devlopment:APi accelerate the devlopment\n",
        "3.Efficiency:\n",
        "API stremline devlopment processes by providing pre-built functionlaties.\n",
        "Devloper can save time by leaveraging existinh API rather than bulding everything from scratch\n",
        "\n",
        "\n",
        "Disadvantage:\n",
        "1.Limited contol:\n",
        "Devloper have limited contril over the performance ,update and change made to external APIs.\n",
        "\n",
        "2.Data Privacy and security concern\n",
        "\n",
        "3.Potential foe down time\"\"\"\n",
        "\n",
        "\n"
      ],
      "metadata": {
        "id": "K5quWLtvAPOl"
      },
      "execution_count": null,
      "outputs": []
    },
    {
      "cell_type": "code",
      "source": [
        "#q.3\n",
        "\"\"\"A Web API, specifically, refers to an API that is accessible over the web using the HTTP protocol. It allows different software applications to communicate with each other via the internet. Web APIs are commonly used to\n",
        "    enable\"\"\"\n",
        "\n",
        "\"\"\"\n",
        "\n",
        "    API: The term \"API\" is a broader concept that encompasses various types of interfaces, not limited to web development. APIs can be found in operating systems, libraries, databases, and more.\n",
        "    Web API: A Web API specifically refers to APIs that are designed for web applications and use standard web protocols like HTTP.\n",
        "    Communication Protocol:\n",
        "\n",
        "    API: APIs can use various communication protocols, and they are not restricted to web protocols. For example, APIs can operate on a local machine and use function calls or other communication methods.\n",
        "    Web API: Web APIs specifically use web protocols, typically HTTP or HTTPS, for communication. This makes them accessible over the internet.\n",
        "    Use Case:\n",
        "\n",
        "    APIs can be used for a wide range of purposes, including system-level interactions, library integrations, and more.\n",
        "    Web API: Web APIs are primarily used for web development, allowing web applications to interact with external services or retrieve data from servers.\n",
        "     Access Location:\n",
        "\n",
        "     API: APIs can be accessed locally or over a network, depending on their design and purpose.\n",
        "      Web API: Web APIs are designed to be accessed over the web, making them accessible from anywhere with an internet connection.\"\"\"\n",
        "\n",
        "\n",
        "\n"
      ],
      "metadata": {
        "colab": {
          "base_uri": "https://localhost:8080/",
          "height": 192
        },
        "id": "FsG-A0VGNJ9S",
        "outputId": "b5198184-a1c8-49a6-b2ad-43afe76bcc54"
      },
      "execution_count": 6,
      "outputs": [
        {
          "output_type": "execute_result",
          "data": {
            "text/plain": [
              "'\\n\\n    API: The term \"API\" is a broader concept that encompasses various types of interfaces, not limited to web development. APIs can be found in operating systems, libraries, databases, and more.\\n    Web API: A Web API specifically refers to APIs that are designed for web applications and use standard web protocols like HTTP.\\n    Communication Protocol:\\n\\n    API: APIs can use various communication protocols, and they are not restricted to web protocols. For example, APIs can operate on a local machine and use function calls or other communication methods.\\n    Web API: Web APIs specifically use web protocols, typically HTTP or HTTPS, for communication. This makes them accessible over the internet.\\n    Use Case:\\n\\n    APIs can be used for a wide range of purposes, including system-level interactions, library integrations, and more.\\n    Web API: Web APIs are primarily used for web development, allowing web applications to interact with external services or retrieve data from servers.\\n     Access Location:\\n\\n     API: APIs can be accessed locally or over a network, depending on their design and purpose.\\n      Web API: Web APIs are designed to be accessed over the web, making them accessible from anywhere with an internet connection.'"
            ],
            "application/vnd.google.colaboratory.intrinsic+json": {
              "type": "string"
            }
          },
          "metadata": {},
          "execution_count": 6
        }
      ]
    },
    {
      "cell_type": "code",
      "source": [
        "#q.4\n",
        "\"\"\"REST (Representational State Transfer) and SOAP (Simple Object Access Protocol) are both architectural styles for designing web services. They define how communication should occur between systems,\n",
        "   but they have different approaches and characteristics.\n",
        "   IN rest communication is done through HTTP METHODS\n",
        "   IN SOAP  communication is done over HTTP,but it can use other protocal also\n",
        "\"\"\"\n",
        "  #SHORT COMING OF SOAP:\n",
        "\"\"\"\n",
        "   1.complexity\n",
        "   2.Flexiblity\n",
        "   3.ststeful Nature\n",
        "\"\"\"\n",
        "\n",
        "\n"
      ],
      "metadata": {
        "colab": {
          "base_uri": "https://localhost:8080/",
          "height": 35
        },
        "id": "HwTQysY2N4Ri",
        "outputId": "35a9767d-1b38-4b97-a080-12162e3eac75"
      },
      "execution_count": 5,
      "outputs": [
        {
          "output_type": "execute_result",
          "data": {
            "text/plain": [
              "'\\n   1.complexity\\n   2.Flexiblity\\n   3.ststeful Nature\\n'"
            ],
            "application/vnd.google.colaboratory.intrinsic+json": {
              "type": "string"
            }
          },
          "metadata": {},
          "execution_count": 5
        }
      ]
    },
    {
      "cell_type": "code",
      "source": [
        "#q.5\n",
        "\"\"\" 1. Architectural Style:\n",
        "REST:\n",
        "\n",
        "REST is an architectural style.\n",
        "It stands for Representational State Transfer.\n",
        "It relies on stateless communication between clients and servers.\n",
        "SOAP:\n",
        "\n",
        "SOAP is a protocol.\n",
        "It stands for Simple Object Access Protocol.\n",
        "It defines a set of rules for structuring messages.\n",
        "2. Communication Protocol:\n",
        "REST:\n",
        "\n",
        "Typically uses standard HTTP methods (GET, POST, PUT, DELETE) for communication.\n",
        "Can use other protocols but is most commonly associated with HTTP.\n",
        "SOAP:\n",
        "\n",
        "Can use various protocols for communication, including HTTP, SMTP, and more.\n",
        "3. Message Format:\n",
        "REST:\n",
        "\n",
        "Uses lightweight data formats such as JSON or XML for message format.\n",
        "SOAP:\n",
        "\n",
        "Uses XML for message format.\n",
        "The XML structure is more rigid and can be verbose.\n",
        "4. Statefulness:\n",
        "REST:\n",
        "\n",
        "Stateless communication; each request from a client to a server must contain all the information needed.\n",
        "SOAP:\n",
        "\n",
        "Can be stateful; it can maintain state between requests.\n",
        "5. Standards:\n",
        "REST:\n",
        "\n",
        "Follows fewer standards.\n",
        "Provides more flexibility in designing the API.\n",
        "SOAP:\n",
        "\n",
        "Strict standards with a formal specification.\n",
        "Enforces the use of XML and has a standardized WSDL (Web Services Description Language). \"\"\"\n"
      ],
      "metadata": {
        "colab": {
          "base_uri": "https://localhost:8080/",
          "height": 192
        },
        "id": "7RX3iIHUPkHn",
        "outputId": "07ebf2cf-eea3-4d34-d1d9-f42f2136cf9f"
      },
      "execution_count": 7,
      "outputs": [
        {
          "output_type": "execute_result",
          "data": {
            "text/plain": [
              "' 1. Architectural Style:\\nREST:\\n\\nREST is an architectural style.\\nIt stands for Representational State Transfer.\\nIt relies on stateless communication between clients and servers.\\nSOAP:\\n\\nSOAP is a protocol.\\nIt stands for Simple Object Access Protocol.\\nIt defines a set of rules for structuring messages.\\n2. Communication Protocol:\\nREST:\\n\\nTypically uses standard HTTP methods (GET, POST, PUT, DELETE) for communication.\\nCan use other protocols but is most commonly associated with HTTP.\\nSOAP:\\n\\nCan use various protocols for communication, including HTTP, SMTP, and more.\\n3. Message Format:\\nREST:\\n\\nUses lightweight data formats such as JSON or XML for message format.\\nSOAP:\\n\\nUses XML for message format.\\nThe XML structure is more rigid and can be verbose.\\n4. Statefulness:\\nREST:\\n\\nStateless communication; each request from a client to a server must contain all the information needed.\\nSOAP:\\n\\nCan be stateful; it can maintain state between requests.\\n5. Standards:\\nREST:\\n\\nFollows fewer standards.\\nProvides more flexibility in designing the API.\\nSOAP:\\n\\nStrict standards with a formal specification.\\nEnforces the use of XML and has a standardized WSDL (Web Services Description Language). '"
            ],
            "application/vnd.google.colaboratory.intrinsic+json": {
              "type": "string"
            }
          },
          "metadata": {},
          "execution_count": 7
        }
      ]
    },
    {
      "cell_type": "code",
      "source": [],
      "metadata": {
        "id": "vjkDtBT5Qq0g"
      },
      "execution_count": null,
      "outputs": []
    }
  ]
}