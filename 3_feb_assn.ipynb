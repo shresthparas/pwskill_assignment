{
  "nbformat": 4,
  "nbformat_minor": 0,
  "metadata": {
    "colab": {
      "provenance": []
    },
    "kernelspec": {
      "name": "python3",
      "display_name": "Python 3"
    },
    "language_info": {
      "name": "python"
    }
  },
  "cells": [
    {
      "cell_type": "code",
      "execution_count": null,
      "metadata": {
        "id": "lkoYNKJch1hc"
      },
      "outputs": [],
      "source": [
        "#Q1.\n",
        "\"\"\" def key word is use to create function\"\"\"\n",
        "def odd_num():\n",
        "  result=[num for num in range(1,25) if num%2==1 ]\n",
        "  return result"
      ]
    },
    {
      "cell_type": "code",
      "source": [
        "odd_num()"
      ],
      "metadata": {
        "colab": {
          "base_uri": "https://localhost:8080/"
        },
        "id": "rDtLP6BaiiOm",
        "outputId": "a890750b-7e73-4d67-cc7d-c81bbfecd540"
      },
      "execution_count": null,
      "outputs": [
        {
          "output_type": "execute_result",
          "data": {
            "text/plain": [
              "[1, 3, 5, 7, 9, 11, 13, 15, 17, 19, 21, 23]"
            ]
          },
          "metadata": {},
          "execution_count": 7
        }
      ]
    },
    {
      "cell_type": "code",
      "source": [
        "#Q2.\n",
        "\"\"\" *args and*kwargs are use to pass dynamic function.we can pass any number of function inside function\"\"\"\n",
        "def test(*args):\n",
        "  return args"
      ],
      "metadata": {
        "id": "26iHejwNkMeW"
      },
      "execution_count": null,
      "outputs": []
    },
    {
      "cell_type": "code",
      "source": [
        "test(2,4,6)"
      ],
      "metadata": {
        "colab": {
          "base_uri": "https://localhost:8080/"
        },
        "id": "jXVK3fvOlLZ0",
        "outputId": "add02cb7-69fd-4ba4-cb64-2409e35b00b2"
      },
      "execution_count": null,
      "outputs": [
        {
          "output_type": "execute_result",
          "data": {
            "text/plain": [
              "(2, 4, 6)"
            ]
          },
          "metadata": {},
          "execution_count": 13
        }
      ]
    },
    {
      "cell_type": "code",
      "source": [
        "def test(**kwargs):\n",
        "  return kwargs"
      ],
      "metadata": {
        "id": "h3TOYNLqlPM2"
      },
      "execution_count": null,
      "outputs": []
    },
    {
      "cell_type": "code",
      "source": [
        "\n"
      ],
      "metadata": {
        "id": "ieDgpXcIlwx2"
      },
      "execution_count": null,
      "outputs": []
    },
    {
      "cell_type": "code",
      "source": [
        "test()"
      ],
      "metadata": {
        "colab": {
          "base_uri": "https://localhost:8080/"
        },
        "id": "D4xLKjh5lry9",
        "outputId": "04efe0e5-7627-4d00-c575-6e4e8d672af1"
      },
      "execution_count": null,
      "outputs": [
        {
          "output_type": "execute_result",
          "data": {
            "text/plain": [
              "{}"
            ]
          },
          "metadata": {},
          "execution_count": 3
        }
      ]
    },
    {
      "cell_type": "code",
      "source": [
        "#q3.\n",
        "\"\"\" iterator in python is allow to iterate all collection of data in list,tuple and dictnories.\"\"\"\n",
        "\"\"\"iter function use to initilize the iterator object and next()use for iteration.\"\"\"\n",
        "list=[2,4,6,20,12,14,16,18,20]\n",
        "s1=iter(list)\n",
        "for list in range(5):\n",
        "   result=next(s1)\n",
        "   print (result)\n",
        "\n"
      ],
      "metadata": {
        "colab": {
          "base_uri": "https://localhost:8080/"
        },
        "id": "lm7f74hm3eUs",
        "outputId": "5b4727ba-65fd-4407-871b-2e783f223248"
      },
      "execution_count": null,
      "outputs": [
        {
          "output_type": "stream",
          "name": "stdout",
          "text": [
            "2\n",
            "4\n",
            "6\n",
            "20\n",
            "12\n"
          ]
        }
      ]
    },
    {
      "cell_type": "code",
      "source": [
        "# Q.4 \"\"\" A Python generator function allows you to declare a function that behaves like an iterator\"\"\"\n",
        "\"\"\"yield keword control the flow of generator function\"\"\"\n",
        "#.example of generator function\n",
        "def fib(n):\n",
        "  a,b=0,1\n",
        "  count=0\n",
        "  while count<n:\n",
        "     yield a\n",
        "     a,b=b,a+b\n",
        "     count+=1\n",
        "for i in fib(10):\n",
        "  print(i)\n",
        "\n",
        "\n"
      ],
      "metadata": {
        "colab": {
          "base_uri": "https://localhost:8080/"
        },
        "id": "lOjKThp96HK3",
        "outputId": "04219a0a-5cbd-4a6c-b37b-4ba89700c4e7"
      },
      "execution_count": null,
      "outputs": [
        {
          "output_type": "stream",
          "name": "stdout",
          "text": [
            "0\n",
            "1\n",
            "1\n",
            "2\n",
            "3\n",
            "5\n",
            "8\n",
            "13\n",
            "21\n",
            "34\n"
          ]
        }
      ]
    },
    {
      "cell_type": "code",
      "source": [
        "#q.5\n",
        "def is_prime(num):\n",
        "\n",
        "    if num < 2:\n",
        "        return False\n",
        "    for i in range(2, num):\n",
        "        if num % i == 0:\n",
        "            return False\n",
        "    return True\n",
        "\n",
        "def prime_generator():\n",
        "\n",
        "    num = 2\n",
        "    count = 0\n",
        "\n",
        "    while count < 20:\n",
        "        if is_prime(num):\n",
        "            yield num\n",
        "            count += 1\n",
        "        num += 1\n",
        "\n",
        "\n",
        "prime_numbers = prime_generator()\n",
        "\n",
        "for _ in range(20):\n",
        "    print(next(prime_numbers))"
      ],
      "metadata": {
        "colab": {
          "base_uri": "https://localhost:8080/"
        },
        "id": "xQxFrPbI6KLc",
        "outputId": "81fe0d1d-96bd-4f08-bc8f-7575fa63e672"
      },
      "execution_count": null,
      "outputs": [
        {
          "output_type": "stream",
          "name": "stdout",
          "text": [
            "2\n",
            "3\n",
            "5\n",
            "7\n",
            "11\n",
            "13\n",
            "17\n",
            "19\n",
            "23\n",
            "29\n",
            "31\n",
            "37\n",
            "41\n",
            "43\n",
            "47\n",
            "53\n",
            "59\n",
            "61\n",
            "67\n",
            "71\n"
          ]
        }
      ]
    },
    {
      "cell_type": "code",
      "source": [
        "\n",
        "\n"
      ],
      "metadata": {
        "id": "WrN8-fId6eOi"
      },
      "execution_count": null,
      "outputs": []
    },
    {
      "cell_type": "code",
      "source": [],
      "metadata": {
        "id": "b8COmQp8ziof"
      },
      "execution_count": null,
      "outputs": []
    },
    {
      "cell_type": "code",
      "source": [],
      "metadata": {
        "id": "4L6hf1EoSF9L"
      },
      "execution_count": null,
      "outputs": []
    },
    {
      "cell_type": "code",
      "source": [
        "\n"
      ],
      "metadata": {
        "id": "50MfakGFVtIx"
      },
      "execution_count": null,
      "outputs": []
    },
    {
      "cell_type": "code",
      "source": [
        "#Q6.\n",
        "n=int(input(\"enter the number of fibonacci sequence\"))\n",
        "a,b=0,1\n",
        "count=0\n",
        "while count<n:\n",
        "   print(a)\n",
        "   a,b=b,a+b\n",
        "   count+=1\n",
        "\n",
        "\n"
      ],
      "metadata": {
        "colab": {
          "base_uri": "https://localhost:8080/"
        },
        "id": "qFxs--QOWsk4",
        "outputId": "0f37b638-805c-4c80-85a2-85a4764ff9cc"
      },
      "execution_count": null,
      "outputs": [
        {
          "output_type": "stream",
          "name": "stdout",
          "text": [
            "enter the number of fibonacci sequence10\n",
            "0\n",
            "1\n",
            "1\n",
            "2\n",
            "3\n",
            "5\n",
            "8\n",
            "13\n",
            "21\n",
            "34\n"
          ]
        }
      ]
    },
    {
      "cell_type": "code",
      "source": [
        "#Q.7\n",
        "s=['pwskill']\n",
        "for i in s:\n",
        "  print(list(i))\n",
        "\n"
      ],
      "metadata": {
        "id": "ybani0cKar0e",
        "colab": {
          "base_uri": "https://localhost:8080/"
        },
        "outputId": "1c25bb68-9388-4696-877d-ae3cf5870834"
      },
      "execution_count": null,
      "outputs": [
        {
          "output_type": "stream",
          "name": "stdout",
          "text": [
            "['p', 'w', 's', 'k', 'i', 'l', 'l']\n"
          ]
        }
      ]
    },
    {
      "cell_type": "code",
      "source": [
        "#Q.8\n",
        "def is_palindrome(n):\n",
        "  orignal_number=n\n",
        "  reverse=0\n",
        "  while n>0:\n",
        "    q=n%10\n",
        "    reverse=reverse*10+q\n",
        "    n=n//10\n",
        "  return orignal_number==reverse\n",
        "number=int(input('enter the number:'))\n",
        "if is_palindrome(number):\n",
        "  print(\"the given number is palindrome\")\n",
        "else:\n",
        "  print(\"the given number is not a palindrome\")\n",
        "\n"
      ],
      "metadata": {
        "colab": {
          "base_uri": "https://localhost:8080/"
        },
        "id": "r2LQqKUvTLCM",
        "outputId": "f365d9d9-b1d1-4a53-dcf1-cc852292b12e"
      },
      "execution_count": null,
      "outputs": [
        {
          "output_type": "stream",
          "name": "stdout",
          "text": [
            "enter the number:121\n",
            "the given number is palindrome\n"
          ]
        }
      ]
    },
    {
      "cell_type": "code",
      "source": [
        "#q.9\n",
        "l=list(range(1,100))\n",
        "for i in l:\n",
        "  if i%2==1:\n",
        "    print(i)\n"
      ],
      "metadata": {
        "colab": {
          "base_uri": "https://localhost:8080/"
        },
        "id": "GBZIXHgpUZau",
        "outputId": "f0389111-782f-4122-b129-fec16ec180dc"
      },
      "execution_count": null,
      "outputs": [
        {
          "output_type": "stream",
          "name": "stdout",
          "text": [
            "1\n",
            "3\n",
            "5\n",
            "7\n",
            "9\n",
            "11\n",
            "13\n",
            "15\n",
            "17\n",
            "19\n",
            "21\n",
            "23\n",
            "25\n",
            "27\n",
            "29\n",
            "31\n",
            "33\n",
            "35\n",
            "37\n",
            "39\n",
            "41\n",
            "43\n",
            "45\n",
            "47\n",
            "49\n",
            "51\n",
            "53\n",
            "55\n",
            "57\n",
            "59\n",
            "61\n",
            "63\n",
            "65\n",
            "67\n",
            "69\n",
            "71\n",
            "73\n",
            "75\n",
            "77\n",
            "79\n",
            "81\n",
            "83\n",
            "85\n",
            "87\n",
            "89\n",
            "91\n",
            "93\n",
            "95\n",
            "97\n",
            "99\n"
          ]
        }
      ]
    },
    {
      "cell_type": "code",
      "source": [],
      "metadata": {
        "id": "cx5yGFQAVTCf"
      },
      "execution_count": null,
      "outputs": []
    },
    {
      "cell_type": "code",
      "source": [],
      "metadata": {
        "id": "IKmwkOJXXDRR"
      },
      "execution_count": null,
      "outputs": []
    },
    {
      "cell_type": "code",
      "source": [],
      "metadata": {
        "id": "TeOiSeRoXFMC"
      },
      "execution_count": null,
      "outputs": []
    }
  ]
}