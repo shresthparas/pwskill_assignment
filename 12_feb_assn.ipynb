{
  "nbformat": 4,
  "nbformat_minor": 0,
  "metadata": {
    "colab": {
      "provenance": []
    },
    "kernelspec": {
      "name": "python3",
      "display_name": "Python 3"
    },
    "language_info": {
      "name": "python"
    }
  },
  "cells": [
    {
      "cell_type": "code",
      "execution_count": 2,
      "metadata": {
        "colab": {
          "base_uri": "https://localhost:8080/",
          "height": 35
        },
        "id": "Wc5VaUef8LNS",
        "outputId": "f5e03865-fdec-411e-d42d-a2d12905e3cb"
      },
      "outputs": [
        {
          "output_type": "execute_result",
          "data": {
            "text/plain": [
              "' a syntax error occur when the code voilated the rule of python language'"
            ],
            "application/vnd.google.colaboratory.intrinsic+json": {
              "type": "string"
            }
          },
          "metadata": {},
          "execution_count": 2
        }
      ],
      "source": [
        "#1.\n",
        "\"\"\"exception cis an event that occur during execution of\n",
        "   program and it dissrupts the normal flow of program\"\"\"\n",
        "\"\"\" a syntax error occur when the code voilated the rule of python language\"\"\"\n",
        "\n"
      ]
    },
    {
      "cell_type": "code",
      "source": [
        "\"\"\"when exceptin is not handle .it result termination of\n",
        "program and display the error message\"\"\"\n",
        "#Example: Division by zero without exception handling\n",
        "def devide_number(x,y):\n",
        "  result=x/y\n",
        "  return result\n",
        "result=devide_number(10,0)\n",
        "print(\"RESULT\",result)\n"
      ],
      "metadata": {
        "colab": {
          "base_uri": "https://localhost:8080/",
          "height": 349
        },
        "id": "8bWufBmi-rJC",
        "outputId": "61ae94b1-3e4d-43b2-c890-f7153f486760"
      },
      "execution_count": 3,
      "outputs": [
        {
          "output_type": "error",
          "ename": "ZeroDivisionError",
          "evalue": "ignored",
          "traceback": [
            "\u001b[0;31m---------------------------------------------------------------------------\u001b[0m",
            "\u001b[0;31mZeroDivisionError\u001b[0m                         Traceback (most recent call last)",
            "\u001b[0;32m<ipython-input-3-bfec4ed685df>\u001b[0m in \u001b[0;36m<cell line: 7>\u001b[0;34m()\u001b[0m\n\u001b[1;32m      5\u001b[0m   \u001b[0mresult\u001b[0m\u001b[0;34m=\u001b[0m\u001b[0mx\u001b[0m\u001b[0;34m/\u001b[0m\u001b[0my\u001b[0m\u001b[0;34m\u001b[0m\u001b[0;34m\u001b[0m\u001b[0m\n\u001b[1;32m      6\u001b[0m   \u001b[0;32mreturn\u001b[0m \u001b[0mresult\u001b[0m\u001b[0;34m\u001b[0m\u001b[0;34m\u001b[0m\u001b[0m\n\u001b[0;32m----> 7\u001b[0;31m \u001b[0mresult\u001b[0m\u001b[0;34m=\u001b[0m\u001b[0mdevide_number\u001b[0m\u001b[0;34m(\u001b[0m\u001b[0;36m10\u001b[0m\u001b[0;34m,\u001b[0m\u001b[0;36m0\u001b[0m\u001b[0;34m)\u001b[0m\u001b[0;34m\u001b[0m\u001b[0;34m\u001b[0m\u001b[0m\n\u001b[0m\u001b[1;32m      8\u001b[0m \u001b[0mprint\u001b[0m\u001b[0;34m(\u001b[0m\u001b[0;34m\"RESULT\"\u001b[0m\u001b[0;34m,\u001b[0m\u001b[0mresult\u001b[0m\u001b[0;34m)\u001b[0m\u001b[0;34m\u001b[0m\u001b[0;34m\u001b[0m\u001b[0m\n",
            "\u001b[0;32m<ipython-input-3-bfec4ed685df>\u001b[0m in \u001b[0;36mdevide_number\u001b[0;34m(x, y)\u001b[0m\n\u001b[1;32m      3\u001b[0m \u001b[0;31m#Example: Division by zero without exception handling\u001b[0m\u001b[0;34m\u001b[0m\u001b[0;34m\u001b[0m\u001b[0m\n\u001b[1;32m      4\u001b[0m \u001b[0;32mdef\u001b[0m \u001b[0mdevide_number\u001b[0m\u001b[0;34m(\u001b[0m\u001b[0mx\u001b[0m\u001b[0;34m,\u001b[0m\u001b[0my\u001b[0m\u001b[0;34m)\u001b[0m\u001b[0;34m:\u001b[0m\u001b[0;34m\u001b[0m\u001b[0;34m\u001b[0m\u001b[0m\n\u001b[0;32m----> 5\u001b[0;31m   \u001b[0mresult\u001b[0m\u001b[0;34m=\u001b[0m\u001b[0mx\u001b[0m\u001b[0;34m/\u001b[0m\u001b[0my\u001b[0m\u001b[0;34m\u001b[0m\u001b[0;34m\u001b[0m\u001b[0m\n\u001b[0m\u001b[1;32m      6\u001b[0m   \u001b[0;32mreturn\u001b[0m \u001b[0mresult\u001b[0m\u001b[0;34m\u001b[0m\u001b[0;34m\u001b[0m\u001b[0m\n\u001b[1;32m      7\u001b[0m \u001b[0mresult\u001b[0m\u001b[0;34m=\u001b[0m\u001b[0mdevide_number\u001b[0m\u001b[0;34m(\u001b[0m\u001b[0;36m10\u001b[0m\u001b[0;34m,\u001b[0m\u001b[0;36m0\u001b[0m\u001b[0;34m)\u001b[0m\u001b[0;34m\u001b[0m\u001b[0;34m\u001b[0m\u001b[0m\n",
            "\u001b[0;31mZeroDivisionError\u001b[0m: division by zero"
          ]
        }
      ]
    },
    {
      "cell_type": "code",
      "source": [
        "#Q.3\n",
        "\"\"\"try and except are the statement use to find the error exceptance\"\"\"\n",
        "#example\n",
        "try:\n",
        "  10/0\n",
        "except ZeroDivisionError  as e:\n",
        "  print(e)\n",
        "\n"
      ],
      "metadata": {
        "colab": {
          "base_uri": "https://localhost:8080/"
        },
        "id": "SlRWYIU3VUqc",
        "outputId": "6bcd3b13-e4c5-4927-bac3-40cbd90453e3"
      },
      "execution_count": 6,
      "outputs": [
        {
          "output_type": "stream",
          "name": "stdout",
          "text": [
            "division by zero\n"
          ]
        }
      ]
    },
    {
      "cell_type": "code",
      "source": [
        "#q.4\n",
        "#a,c\n",
        "\n",
        "class validatages(Exception):\n",
        "  def __init__(self,msg):\n",
        "    self.msg=msg\n",
        "\n",
        "def validatages(age):\n",
        "  if age<0:\n",
        "    raise validatages(\"age is negative\")\n",
        "  elif age>200:\n",
        "    raise validatages(\"entered age is very high\")\n",
        "  else:\n",
        "    print(\"age is valid\")\n",
        "try:\n",
        "  age=int(input(\"enter your age\"))\n",
        "  validatages(age)\n",
        "except validatages as e:\n",
        "  print(e)\n",
        "#b\n",
        "try:\n",
        "  f=open(\"test2.txt\",'w')\n",
        "  f.write('thid is my file')\n",
        "finally:\n",
        "  print(\"finally executed\")\n",
        "\n",
        "\n"
      ],
      "metadata": {
        "colab": {
          "base_uri": "https://localhost:8080/"
        },
        "id": "NaAVO2dXWld1",
        "outputId": "7b7a7286-baa4-4589-cbf2-bdf68544ab2b"
      },
      "execution_count": 13,
      "outputs": [
        {
          "output_type": "stream",
          "name": "stdout",
          "text": [
            "enter your age75\n",
            "age is valid\n",
            "finally executed\n"
          ]
        }
      ]
    },
    {
      "cell_type": "code",
      "source": [
        "from ast import MatchSingleton\n",
        "from logging import exception\n",
        "#q.5\n",
        "\"\"\"In Python, custom exceptions are user-defined exception classes that allow you to create your own specific types of exceptions tailored\n",
        "to the needs of your application.\"\"\"\n",
        "\"\"\" we need custom exception becouse it provide specicifity,readablity\"\"\"\n",
        "\n",
        "class validatages(Exception):\n",
        "  def __init__(self,msg):\n",
        "    self.msg=msg\n",
        "\n",
        "def validatages(age):\n",
        "  if age<0:\n",
        "    raise validatages(\"age is negative\")\n",
        "  elif age>200:\n",
        "    raise validatages(\"entered age is very high\")\n",
        "  else:\n",
        "    print(\"age is valid\")\n",
        "try:\n",
        "  age=int(input(\"enter your age\"))\n",
        "  validatages(age)\n",
        "except validatages as e:\n",
        "  print(e)\n",
        "\n",
        "\n",
        "\n",
        "\n"
      ],
      "metadata": {
        "colab": {
          "base_uri": "https://localhost:8080/"
        },
        "id": "xfWwVflhDgJ4",
        "outputId": "1fe2d07a-6c40-4cfd-cb86-de4106580516"
      },
      "execution_count": 14,
      "outputs": [
        {
          "output_type": "stream",
          "name": "stdout",
          "text": [
            "enter your age75\n",
            "age is valid\n"
          ]
        }
      ]
    },
    {
      "cell_type": "code",
      "source": [
        "#q.6\n",
        "class WithdrawalError(Exception):\n",
        "    \"\"\"Custom exception for withdrawal errors.\"\"\"\n",
        "    def __init__(self, balance, amount):\n",
        "        self.balance = balance\n",
        "        self.amount = amount\n",
        "        super().__init__(f\"WithdrawalError: Insufficient balance ({balance}) for withdrawal of {amount}.\")\n",
        "\n",
        "class BankAccount:\n",
        "    def __init__(self, balance):\n",
        "        self.balance = balance\n",
        "\n",
        "    def withdraw(self, amount):\n",
        "        if amount > self.balance:\n",
        "            raise WithdrawalError(self.balance, amount)\n",
        "        else:\n",
        "            self.balance -= amount\n",
        "            print(f\"Withdrawal successful. Remaining balance: {self.balance}\")\n",
        "\n",
        "# Example usage:\n",
        "account = BankAccount(100)\n",
        "try:\n",
        "    account.withdraw(150)\n",
        "except WithdrawalError as e:\n",
        "    print(e)"
      ],
      "metadata": {
        "colab": {
          "base_uri": "https://localhost:8080/"
        },
        "id": "0VXAaVfWciTh",
        "outputId": "22050755-8ce3-4097-cf12-b3db7cc075ed"
      },
      "execution_count": 15,
      "outputs": [
        {
          "output_type": "stream",
          "name": "stdout",
          "text": [
            "WithdrawalError: Insufficient balance (100) for withdrawal of 150.\n"
          ]
        }
      ]
    },
    {
      "cell_type": "code",
      "source": [],
      "metadata": {
        "id": "vOi3-EznhY2H"
      },
      "execution_count": null,
      "outputs": []
    }
  ]
}