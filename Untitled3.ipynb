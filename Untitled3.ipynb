{
 "cells": [
  {
   "cell_type": "code",
   "execution_count": 1,
   "id": "628c849b-6b0c-4156-bb40-4e6682f87001",
   "metadata": {},
   "outputs": [
    {
     "name": "stdout",
     "output_type": "stream",
     "text": [
      "0     4\n",
      "1     8\n",
      "2    15\n",
      "3    16\n",
      "4    23\n",
      "5    42\n",
      "dtype: int64\n"
     ]
    }
   ],
   "source": [
    "#Q.1\n",
    "import pandas as pd\n",
    "\n",
    "\n",
    "data = (4, 8, 15, 16, 23, 42)\n",
    "df = pd.Series(data)\n",
    "print(df)\n"
   ]
  },
  {
   "cell_type": "code",
   "execution_count": 2,
   "id": "596b6671-7353-4519-9e5b-ab8065162a1a",
   "metadata": {},
   "outputs": [
    {
     "name": "stdout",
     "output_type": "stream",
     "text": [
      "0    0\n",
      "1    1\n",
      "2    2\n",
      "3    3\n",
      "4    4\n",
      "5    5\n",
      "6    6\n",
      "7    7\n",
      "8    8\n",
      "9    9\n",
      "dtype: int64\n"
     ]
    }
   ],
   "source": [
    "#Q.2\n",
    "l=list(range(0,10))\n",
    "series=pd.Series(l)\n",
    "print(series)"
   ]
  },
  {
   "cell_type": "code",
   "execution_count": 3,
   "id": "3111500e-a973-40d5-884c-2fe71fb7fae7",
   "metadata": {},
   "outputs": [
    {
     "name": "stdout",
     "output_type": "stream",
     "text": [
      "     Name  Age  Gender\n",
      "0   Alice   25  Female\n",
      "1     Bob   30    Male\n",
      "2  Claire   27  Female\n"
     ]
    }
   ],
   "source": [
    "#Q.3\n",
    "data = {\n",
    "    'Name': ['Alice', 'Bob', 'Claire'],\n",
    "    'Age': [25, 30, 27],\n",
    "    'Gender': ['Female', 'Male', 'Female']\n",
    "}\n",
    "df=pd.DataFrame(data)\n",
    "print(df)\n"
   ]
  },
  {
   "cell_type": "code",
   "execution_count": 4,
   "id": "6499c249-7cc3-4e98-bfec-eb048fe3483b",
   "metadata": {},
   "outputs": [
    {
     "ename": "IndentationError",
     "evalue": "unexpected indent (3070669468.py, line 9)",
     "output_type": "error",
     "traceback": [
      "\u001b[1;36m  Cell \u001b[1;32mIn[4], line 9\u001b[1;36m\u001b[0m\n\u001b[1;33m    \"\"\"0    25\u001b[0m\n\u001b[1;37m    ^\u001b[0m\n\u001b[1;31mIndentationError\u001b[0m\u001b[1;31m:\u001b[0m unexpected indent\n"
     ]
    }
   ],
   "source": [
    "#Q.4\n",
    "\"\"\"a DataFrame is a two-dimensional, tabular data structure that is designed to store and manipulate\n",
    "   heterogeneous data. It is similar to a spreadsheet or SQL table,where data is organized in rows and columns.\"\"\"\n",
    "\n",
    "\"\"\"Series is a one-dimensional array-like object that can hold any data type. It is essentially a single\n",
    "  column of a DataFrame. A DataFrame can be thought of as a collection of Series objects, where each Series\n",
    "  represents a column.\"\"\"\n",
    " #examples of series\n",
    " \"\"\"0    25\n",
    "    1    30\n",
    "    2    27\n",
    "Name: Age, dtype: int64\"\"\"\n",
    "#example of datframe\n",
    "\"\"\"   Name   Gender  Age\n",
    "    0  Alice  Female  25\n",
    "    1  Bob    Male    30\n",
    "    2  Claire Female  27\n",
    "\"\"\"\n"
   ]
  },
  {
   "cell_type": "code",
   "execution_count": null,
   "id": "62160c4b-3d07-4c99-822b-db0f9a473345",
   "metadata": {},
   "outputs": [],
   "source": []
  },
  {
   "cell_type": "code",
   "execution_count": 5,
   "id": "ca458614-f51c-4ab8-ae91-d6ac0fb346bd",
   "metadata": {},
   "outputs": [
    {
     "data": {
      "text/plain": [
       "' Data Frame and series are mutable in nature as we as easily manipulate data\\n    but Panel is not mutable in nature'"
      ]
     },
     "execution_count": 5,
     "metadata": {},
     "output_type": "execute_result"
    }
   ],
   "source": [
    "#Q.6\n",
    "\"\"\" Data Frame and series are mutable in nature as we as easily manipulate data\n",
    "    but Panel is not mutable in nature\"\"\""
   ]
  },
  {
   "cell_type": "code",
   "execution_count": 6,
   "id": "8dcb9c7e-d4ad-40d9-ae8a-1dcea6cb98b6",
   "metadata": {},
   "outputs": [
    {
     "name": "stdout",
     "output_type": "stream",
     "text": [
      "   0  1  2\n",
      "0  1  2  3\n",
      "1  a  b  c\n"
     ]
    }
   ],
   "source": [
    "#Q.7\n",
    "import pandas as pd\n",
    "col_A=(1,2,3)\n",
    "col_B=('a','b','c')\n",
    "series_A=pd.Series(col_A)\n",
    "series_B=pd.Series(col_B)\n",
    "data=[series_A,series_B]\n",
    "df=pd.DataFrame(data)\n",
    "print(df)"
   ]
  },
  {
   "cell_type": "code",
   "execution_count": null,
   "id": "864d6a0a-8f20-4241-9cd9-624bd8cba6da",
   "metadata": {},
   "outputs": [],
   "source": []
  }
 ],
 "metadata": {
  "kernelspec": {
   "display_name": "Python 3 (ipykernel)",
   "language": "python",
   "name": "python3"
  },
  "language_info": {
   "codemirror_mode": {
    "name": "ipython",
    "version": 3
   },
   "file_extension": ".py",
   "mimetype": "text/x-python",
   "name": "python",
   "nbconvert_exporter": "python",
   "pygments_lexer": "ipython3",
   "version": "3.12.1"
  }
 },
 "nbformat": 4,
 "nbformat_minor": 5
}
