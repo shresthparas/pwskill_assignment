{
  "cells": [
    {
      "cell_type": "code",
      "execution_count": null,
      "metadata": {
        "id": "aY_B8XU_VVZd"
      },
      "outputs": [],
      "source": [
        "#1.\n",
        "\"\"\"\n",
        "Data encoding state that whenever there is categorical features we will try to seed various techcinique\n",
        "how we will try to convert to Numerical feature\n",
        "\n",
        "Data encoding is useful because it convert categorical feature to numeriacl feature\n",
        "so that we will train our model easily with that data\n",
        "\"\"\"\n",
        "\n"
      ]
    },
    {
      "cell_type": "code",
      "execution_count": null,
      "metadata": {
        "colab": {
          "base_uri": "https://localhost:8080/",
          "height": 157
        },
        "id": "E6x2qoZAbmw2",
        "outputId": "7a1e8f25-a2d0-4d73-9b0f-fdd17b189aa7"
      },
      "outputs": [
        {
          "output_type": "execute_result",
          "data": {
            "text/plain": [
              "'\\n\\nNominal encoding, also known as one-hot encoding, is a technique used in machine learning to convert categorical data\\ninto a numerical format. In this encoding scheme, each category is represented by a binary vector, where each element\\ncorresponds to a unique category and is set to 1 if the data point belongs to that category, and 0 otherwise.\\n\\nLet\\'s say you\\'re working on a natural language processing (NLP) project where you want to classify customer reviews of\\na product into positive, neutral, or negative sentiments. The sentiment labels are categorical data: \"positive,\" \"neutral,\" and \"negative.\"\\nYou first need to convert these categorical labels into numerical format using nominal encoding. Here\\'s how you can do it:\\n\\nPositive sentiment: [1, 0, 0]\\nNeutral sentiment: [0, 1, 0]\\nNegative sentiment: [0, 0, 1]\\n\\n\\n'"
            ],
            "application/vnd.google.colaboratory.intrinsic+json": {
              "type": "string"
            }
          },
          "metadata": {},
          "execution_count": 1
        }
      ],
      "source": [
        "#2\n",
        "\"\"\"\n",
        "\n",
        "Nominal encoding, also known as one-hot encoding, is a technique used in machine learning to convert categorical data\n",
        "into a numerical format. In this encoding scheme, each category is represented by a binary vector, where each element\n",
        "corresponds to a unique category and is set to 1 if the data point belongs to that category, and 0 otherwise.\n",
        "\n",
        "Let's say you're working on a natural language processing (NLP) project where you want to classify customer reviews of\n",
        "a product into positive, neutral, or negative sentiments. The sentiment labels are categorical data: \"positive,\" \"neutral,\" and \"negative.\"\n",
        "You first need to convert these categorical labels into numerical format using nominal encoding. Here's how you can do it:\n",
        "\n",
        "Positive sentiment: [1, 0, 0]\n",
        "Neutral sentiment: [0, 1, 0]\n",
        "Negative sentiment: [0, 0, 1]\n",
        "\n",
        "\n",
        "\"\"\"\n",
        "\n"
      ]
    },
    {
      "cell_type": "code",
      "execution_count": null,
      "metadata": {
        "colab": {
          "base_uri": "https://localhost:8080/",
          "height": 53
        },
        "id": "EGUsR-_ooF0n",
        "outputId": "da3fefee-c335-48b2-cc1f-baf1eedc010d"
      },
      "outputs": [
        {
          "output_type": "execute_result",
          "data": {
            "text/plain": [
              "'\\nNominal encoding and one-hot encoding are  actually same but they\\ncan preferred over other encoding techinique\\n\\n\\n'"
            ],
            "application/vnd.google.colaboratory.intrinsic+json": {
              "type": "string"
            }
          },
          "metadata": {},
          "execution_count": 2
        }
      ],
      "source": [
        "#3\n",
        "\"\"\"\n",
        "Nominal encoding and one-hot encoding are  actually same but they\n",
        "can preferred over other encoding techinique\n",
        "\n",
        "\n",
        "\"\"\""
      ]
    },
    {
      "cell_type": "code",
      "execution_count": null,
      "metadata": {
        "id": "7ZjAcIOJHpqR",
        "colab": {
          "base_uri": "https://localhost:8080/",
          "height": 105
        },
        "outputId": "68665e02-7e6d-4c2d-88f7-c8dd0318cc5b"
      },
      "outputs": [
        {
          "output_type": "execute_result",
          "data": {
            "text/plain": [
              "\"\\nSuppose you have a dataset containing categorical data with 5 unique values. Which encoding\\ntechnique would you use to transform this data into a format suitable for machine learning algorithms\\nwould be one-hot encoding\\n\\nHere's why one-hot encoding would be the preferred choice:\\nPreserves the uniqueness of categories: One-hot encoding represents each unique category as a binary vector,\\nwhere each category has its own dimension.\\nMaintains independence between categories: \\n\\n\\n\""
            ],
            "application/vnd.google.colaboratory.intrinsic+json": {
              "type": "string"
            }
          },
          "metadata": {},
          "execution_count": 3
        }
      ],
      "source": [
        "#4\n",
        "\"\"\"\n",
        "Suppose you have a dataset containing categorical data with 5 unique values. Which encoding\n",
        "technique would you use to transform this data into a format suitable for machine learning algorithms\n",
        "would be one-hot encoding\n",
        "\n",
        "Here's why one-hot encoding would be the preferred choice:\n",
        "Preserves the uniqueness of categories: One-hot encoding represents each unique category as a binary vector,\n",
        "where each category has its own dimension.\n",
        "Maintains independence between categories:\n",
        "\n",
        "\n",
        "\"\"\"\n",
        "\n",
        "\n"
      ]
    },
    {
      "cell_type": "code",
      "execution_count": 1,
      "metadata": {
        "colab": {
          "base_uri": "https://localhost:8080/",
          "height": 35
        },
        "id": "1WYv_FaIwffd",
        "outputId": "fe46b3c4-a264-4120-aa7c-518f51439573"
      },
      "outputs": [
        {
          "output_type": "execute_result",
          "data": {
            "text/plain": [
              "'\\nwe have to create two more new column\\n\\n'"
            ],
            "application/vnd.google.colaboratory.intrinsic+json": {
              "type": "string"
            }
          },
          "metadata": {},
          "execution_count": 1
        }
      ],
      "source": [
        "#5\n",
        "\"\"\"\n",
        "we have to create two more new column\n",
        "\n",
        "\"\"\"\n"
      ]
    },
    {
      "cell_type": "code",
      "execution_count": null,
      "metadata": {
        "id": "yM3iOYPlxAmA"
      },
      "outputs": [],
      "source": []
    },
    {
      "cell_type": "code",
      "execution_count": 2,
      "metadata": {
        "id": "-gSsw_ist4bj",
        "colab": {
          "base_uri": "https://localhost:8080/",
          "height": 122
        },
        "outputId": "aba0170c-4650-44ee-83c9-6f8ff0a5a3fd"
      },
      "outputs": [
        {
          "output_type": "execute_result",
          "data": {
            "text/plain": [
              "\"\\nGiven your dataset containing information about different types of animals, including their species, habitat, and diet, it's likely that\\none-hot encoding (nominal encoding) would be the most appropriate choice for transforming the categorical data into a format suitable for\\nmachine learning algorithms. This is because species, habitat, and diet are likely nominal categorical variablewithout inherent order or rank.\\nOne-hot encoding would represent each category independently, avoiding any unintended relationships or hierarchies between them. \\n\\n\\n\""
            ],
            "application/vnd.google.colaboratory.intrinsic+json": {
              "type": "string"
            }
          },
          "metadata": {},
          "execution_count": 2
        }
      ],
      "source": [
        "#6\n",
        "\"\"\"\n",
        "Given your dataset containing information about different types of animals, including their species, habitat, and diet, it's likely that\n",
        "one-hot encoding (nominal encoding) would be the most appropriate choice for transforming the categorical data into a format suitable for\n",
        "machine learning algorithms. This is because species, habitat, and diet are likely nominal categorical variablewithout inherent order or rank.\n",
        "One-hot encoding would represent each category independently, avoiding any unintended relationships or hierarchies between them.\n",
        "\n",
        "\n",
        "\"\"\""
      ]
    },
    {
      "cell_type": "code",
      "execution_count": 3,
      "metadata": {
        "id": "6DlacnW5xu49",
        "colab": {
          "base_uri": "https://localhost:8080/",
          "height": 157
        },
        "outputId": "de1f6c79-8a29-4d64-abdc-ebf11995b476"
      },
      "outputs": [
        {
          "output_type": "execute_result",
          "data": {
            "text/plain": [
              "'\\nOne-Hot Encoding creates binary columns for each category in the categorical feature.\\nIt\\'s suitable for nominal categorical variables where there is no inherent order or hierarchy among categories.\\nStep-by-step implementation:\\n\\nIdentify the categorical feature(s): In this case, the categorical feature is \"contract type\".\\nApply One-Hot Encoding to the \"contract type\" feature: Create new binary columns corresponding to each category.\\nFor example, if the contract types are \"month-to-month\", \"one year\", and \"two year\", you create three new binary columns.\\nEach column represents one of these categories, with a value of 1 if the customer has that contract type and 0 otherwise.\\nLeave other features (like gender) untouched if they are binary and can be represented as numerical values (e.g., male=0, female=1).\\n\\n'"
            ],
            "application/vnd.google.colaboratory.intrinsic+json": {
              "type": "string"
            }
          },
          "metadata": {},
          "execution_count": 3
        }
      ],
      "source": [
        "#7\n",
        "\"\"\"\n",
        "One-Hot Encoding creates binary columns for each category in the categorical feature.\n",
        "It's suitable for nominal categorical variables where there is no inherent order or hierarchy among categories.\n",
        "Step-by-step implementation:\n",
        "\n",
        "Identify the categorical feature(s): In this case, the categorical feature is \"contract type\".\n",
        "Apply One-Hot Encoding to the \"contract type\" feature: Create new binary columns corresponding to each category.\n",
        "For example, if the contract types are \"month-to-month\", \"one year\", and \"two year\", you create three new binary columns.\n",
        "Each column represents one of these categories, with a value of 1 if the customer has that contract type and 0 otherwise.\n",
        "Leave other features (like gender) untouched if they are binary and can be represented as numerical values (e.g., male=0, female=1).\n",
        "\n",
        "\"\"\"\n",
        "\n"
      ]
    },
    {
      "cell_type": "code",
      "execution_count": 3,
      "metadata": {
        "id": "Y7hP7BHC2wjJ"
      },
      "outputs": [],
      "source": [
        "\n",
        "\n",
        "\n"
      ]
    },
    {
      "cell_type": "code",
      "execution_count": 3,
      "metadata": {
        "id": "8g0P9N5fGou1"
      },
      "outputs": [],
      "source": [
        "\n",
        "\n",
        "\n",
        "\n"
      ]
    },
    {
      "cell_type": "code",
      "execution_count": 3,
      "metadata": {
        "id": "j-f-vOvqMmXp"
      },
      "outputs": [],
      "source": []
    },
    {
      "cell_type": "code",
      "execution_count": 4,
      "metadata": {
        "id": "HEFnm_shXF9u"
      },
      "outputs": [],
      "source": [
        "\n"
      ]
    },
    {
      "cell_type": "code",
      "execution_count": 4,
      "metadata": {
        "id": "hv62ESsKXPhu"
      },
      "outputs": [],
      "source": []
    },
    {
      "cell_type": "code",
      "execution_count": 4,
      "metadata": {
        "id": "h3pd3AMoXU9l"
      },
      "outputs": [],
      "source": []
    },
    {
      "cell_type": "code",
      "execution_count": 4,
      "metadata": {
        "id": "Tga6sDLcsMup"
      },
      "outputs": [],
      "source": []
    },
    {
      "cell_type": "code",
      "source": [
        "\n"
      ],
      "metadata": {
        "id": "zS3tF46iLmUL"
      },
      "execution_count": 4,
      "outputs": []
    },
    {
      "cell_type": "code",
      "source": [],
      "metadata": {
        "id": "UFudQYZAPd2l"
      },
      "execution_count": 4,
      "outputs": []
    }
  ],
  "metadata": {
    "colab": {
      "provenance": []
    },
    "kernelspec": {
      "display_name": "Python 3",
      "name": "python3"
    },
    "language_info": {
      "name": "python"
    }
  },
  "nbformat": 4,
  "nbformat_minor": 0
}