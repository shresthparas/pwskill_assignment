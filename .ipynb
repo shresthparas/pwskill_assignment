{
  "nbformat": 4,
  "nbformat_minor": 0,
  "metadata": {
    "colab": {
      "provenance": [],
      "authorship_tag": "ABX9TyO0QQuNJ7ME8Ha0w+LxES6i",
      "include_colab_link": true
    },
    "kernelspec": {
      "name": "python3",
      "display_name": "Python 3"
    },
    "language_info": {
      "name": "python"
    }
  },
  "cells": [
    {
      "cell_type": "markdown",
      "metadata": {
        "id": "view-in-github",
        "colab_type": "text"
      },
      "source": [
        "<a href=\"https://colab.research.google.com/github/shresthparas/pwskill_assignment/blob/main/.ipynb\" target=\"_parent\"><img src=\"https://colab.research.google.com/assets/colab-badge.svg\" alt=\"Open In Colab\"/></a>"
      ]
    },
    {
      "cell_type": "code",
      "execution_count": 8,
      "metadata": {
        "id": "6XF-IsLWOGx5",
        "colab": {
          "base_uri": "https://localhost:8080/"
        },
        "outputId": "6c23c03e-76f6-4368-b41c-39cf3de0d470"
      },
      "outputs": [
        {
          "output_type": "stream",
          "name": "stdout",
          "text": [
            "('Virat Kohli', 24936)\n",
            "('Jack Kallis', 25534)\n",
            "('Ricky Ponting', 27483)\n",
            "('Sachin Tendulkar', 34357)\n"
          ]
        }
      ],
      "source": [
        "#Q1.\n",
        "data = [('Sachin Tendulkar', 34357), ('Ricky Ponting', 27483), ('Jack Kallis', 25534), ('Virat Kohli', 24936)]\n",
        "\n",
        "sorted_data = sorted(data, key=lambda x: x[1])\n",
        "\n",
        "for i in sorted_data:\n",
        "    print(i)\n",
        "\n"
      ]
    },
    {
      "cell_type": "code",
      "source": [],
      "metadata": {
        "id": "BcSESunY38wY"
      },
      "execution_count": 14,
      "outputs": []
    },
    {
      "cell_type": "code",
      "source": [
        "#Q.2\n",
        "l=[1, 2, 3, 4, 5, 6, 7, 8, 9, 10]\n",
        "a=list(map(lambda x:x**2,l))\n",
        "a"
      ],
      "metadata": {
        "colab": {
          "base_uri": "https://localhost:8080/"
        },
        "id": "nDSyYjt1-DiE",
        "outputId": "5b5592de-a636-4893-891b-7b5c8bafa397"
      },
      "execution_count": 14,
      "outputs": [
        {
          "output_type": "execute_result",
          "data": {
            "text/plain": [
              "[1, 4, 9, 16, 25, 36, 49, 64, 81, 100]"
            ]
          },
          "metadata": {},
          "execution_count": 14
        }
      ]
    },
    {
      "cell_type": "code",
      "source": [],
      "metadata": {
        "id": "XxtLk5Qt_hwS"
      },
      "execution_count": 26,
      "outputs": []
    },
    {
      "cell_type": "code",
      "source": [
        "#Q.3\n",
        "l=[1, 2, 3, 4, 5, 6, 7, 8, 9, 10]\n",
        "a=tuple(map(lambda x:str(x),l))\n",
        "a"
      ],
      "metadata": {
        "colab": {
          "base_uri": "https://localhost:8080/"
        },
        "id": "aaAcX_9EArNL",
        "outputId": "84d03084-a2b7-41ea-b6c6-997357c74d82"
      },
      "execution_count": 26,
      "outputs": [
        {
          "output_type": "execute_result",
          "data": {
            "text/plain": [
              "('1', '2', '3', '4', '5', '6', '7', '8', '9', '10')"
            ]
          },
          "metadata": {},
          "execution_count": 26
        }
      ]
    },
    {
      "cell_type": "code",
      "source": [
        "#q.4\n",
        "from functools import reduce\n",
        "\n",
        "l=list(range(1,26))\n",
        "multiply=lambda x,y:x*y\n",
        "product=reduce(multiply,l)\n",
        "print(product)"
      ],
      "metadata": {
        "colab": {
          "base_uri": "https://localhost:8080/"
        },
        "id": "lxewsVQGAuO3",
        "outputId": "bf39b922-6a13-48ac-e0b3-6fee1aa0fcd7"
      },
      "execution_count": 44,
      "outputs": [
        {
          "output_type": "stream",
          "name": "stdout",
          "text": [
            "15511210043330985984000000\n"
          ]
        }
      ]
    },
    {
      "cell_type": "code",
      "source": [
        "#Q.5\n",
        "l=[2, 3, 6, 9, 27, 60, 90, 120, 55, 46]\n",
        "a=lambda x: x%2==0 and x%3==0\n",
        "b=list(filter(a,l))\n",
        "b"
      ],
      "metadata": {
        "colab": {
          "base_uri": "https://localhost:8080/"
        },
        "id": "prVm5pamDpZv",
        "outputId": "9a9e8948-39a9-4945-ae83-3f3b0314aa4b"
      },
      "execution_count": 47,
      "outputs": [
        {
          "output_type": "execute_result",
          "data": {
            "text/plain": [
              "[6, 60, 90, 120]"
            ]
          },
          "metadata": {},
          "execution_count": 47
        }
      ]
    },
    {
      "cell_type": "code",
      "source": [
        "#Q.6\n",
        "l=['python', 'php', 'aba', 'radar', 'level']\n",
        "m=lambda l:l==l[::-1]\n",
        "palindrome=list(filter(m,l))\n",
        "print('the required palindrom is ',palindrome)"
      ],
      "metadata": {
        "colab": {
          "base_uri": "https://localhost:8080/"
        },
        "id": "r1NQn2s0Ikki",
        "outputId": "b0e0042d-dd60-4142-808f-e9061b9ad37a"
      },
      "execution_count": 56,
      "outputs": [
        {
          "output_type": "stream",
          "name": "stdout",
          "text": [
            "the required palindrom is  ['php', 'aba', 'radar', 'level']\n"
          ]
        }
      ]
    },
    {
      "cell_type": "code",
      "source": [],
      "metadata": {
        "id": "WM1nam__LTAU"
      },
      "execution_count": null,
      "outputs": []
    }
  ]
}